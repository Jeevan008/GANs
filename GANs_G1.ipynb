{
  "nbformat": 4,
  "nbformat_minor": 0,
  "metadata": {
    "colab": {
      "provenance": [],
      "gpuType": "T4",
      "authorship_tag": "ABX9TyMCFPH/mAcvktwgHwoSBV+q",
      "include_colab_link": true
    },
    "kernelspec": {
      "name": "python3",
      "display_name": "Python 3"
    },
    "language_info": {
      "name": "python"
    },
    "accelerator": "GPU"
  },
  "cells": [
    {
      "cell_type": "markdown",
      "metadata": {
        "id": "view-in-github",
        "colab_type": "text"
      },
      "source": [
        "<a href=\"https://colab.research.google.com/github/Jeevan008/GANs/blob/main/GANs_G1.ipynb\" target=\"_parent\"><img src=\"https://colab.research.google.com/assets/colab-badge.svg\" alt=\"Open In Colab\"/></a>"
      ]
    },
    {
      "cell_type": "code",
      "execution_count": 28,
      "metadata": {
        "id": "Z4RVVUiojBaK"
      },
      "outputs": [],
      "source": [
        "import torch\n",
        "import torch.nn as nn\n",
        "import torch.optim as optim\n",
        "from torchvision import datasets, transforms, utils\n",
        "from torch.utils.data import DataLoader\n",
        "import matplotlib.pyplot as plt\n",
        "import numpy as np\n",
        "import os\n",
        "\n",
        "import warnings\n",
        "warnings.filterwarnings('ignore')"
      ]
    },
    {
      "cell_type": "code",
      "source": [
        "#Generator: Turns noise into fake images\n",
        "class Generator(nn.Module):\n",
        "    def __init__(self, noise_dim,input_size=100, output_size=784): #28*28=784\n",
        "      super(Generator,self).__init__()\n",
        "      self.model =nn.Sequential(\n",
        "          nn.Linear(input_size,256),\n",
        "          nn.ReLU(),\n",
        "          nn.Linear(256,output_size),\n",
        "          nn.Tanh()\n",
        "      )\n",
        "\n",
        "    def forward(self,z):\n",
        "      return self.model(z)\n",
        "\n",
        "\n"
      ],
      "metadata": {
        "id": "4waW_OeDj14D"
      },
      "execution_count": 29,
      "outputs": []
    },
    {
      "cell_type": "code",
      "source": [
        "#Discriminator: Classifies real or fake\n",
        "class Discriminator(nn.Module):\n",
        "  def __init__(self,input_size=784):\n",
        "    super(Discriminator, self).__init__()\n",
        "    self.model=nn.Sequential(\n",
        "        nn.Linear(input_size, 256),\n",
        "        nn.LeakyReLU(0.2),\n",
        "        nn.Linear(256, 1),\n",
        "        nn.Sigmoid()  # Outputs probability\n",
        "    )\n",
        "\n",
        "  def forward(self, x):\n",
        "    return self.model(x)"
      ],
      "metadata": {
        "id": "fJvUv2jZj16i"
      },
      "execution_count": 30,
      "outputs": []
    },
    {
      "cell_type": "code",
      "source": [
        "#Noise generator\n",
        "def generator_noise(batch_size,z_dim):\n",
        "  return torch.randn(batch_size,z_dim)\n"
      ],
      "metadata": {
        "id": "ywsVXBPZj19L"
      },
      "execution_count": 31,
      "outputs": []
    },
    {
      "cell_type": "code",
      "source": [
        "#Load MNIST data\n",
        "transform = transforms.Compose([\n",
        "    transforms.ToTensor(),\n",
        "    transforms.Normalize((0.5,),(0.5,))\n",
        "])\n",
        "\n",
        "dataset = datasets.MNIST(root ='./data',train=True,download=True,transform=transform)\n",
        "dataloader = DataLoader(dataset,batch_size=64,shuffle=True)"
      ],
      "metadata": {
        "id": "48t1acEsj1_y"
      },
      "execution_count": 32,
      "outputs": []
    },
    {
      "cell_type": "code",
      "source": [
        "#Initialize the models, Optimizers,loss function\n",
        "z_dim=100\n",
        "G = Generator(z_dim)\n",
        "D = Discriminator()\n",
        "generator = Generator(z_dim)\n",
        "discriminator = Discriminator()\n",
        "criterion = nn.BCELoss()\n",
        "G_opt = optim.Adam(generator.parameters(),lr=0.0002)\n",
        "D_opt = optim.Adam(discriminator.parameters(),lr=0.0002)"
      ],
      "metadata": {
        "id": "lS44Srfqj2CT"
      },
      "execution_count": 33,
      "outputs": []
    },
    {
      "cell_type": "code",
      "source": [
        "#Training Loop\n",
        "epochs =5\n",
        "fixed_noise = generator_noise(16,z_dim)\n",
        "os.makedirs('gan_outputs', exist_ok=True)\n",
        "\n",
        "for epoch in range(epochs):\n",
        "  for real_images,_ in dataloader:\n",
        "    batch_size = real_images.size(0)\n",
        "    real_images = real_images.view(batch_size, -1)\n",
        "\n",
        "    real_labels=torch.ones(batch_size,1)\n",
        "    fake_labels=torch.zeros(batch_size,1)\n",
        "\n",
        "    #Train the discriminator\n",
        "    noise = generator_noise(batch_size,z_dim)\n",
        "    fake_images = G(noise).detach()\n",
        "    D_loss_real = criterion(D(real_images),real_labels)\n",
        "    D_loss_fake = criterion(D(fake_images),fake_labels)\n",
        "    D_loss = D_loss_real + D_loss_fake\n",
        "\n",
        "    D.zero_grad()\n",
        "    D_loss.backward()\n",
        "    D_opt.step()\n",
        "\n",
        "    #Train the Generator\n",
        "    noise = generator_noise(batch_size,z_dim)\n",
        "    fake_images = G(noise)\n",
        "    G_loss = criterion(D(fake_images),real_labels)\n",
        "\n",
        "    G.zero_grad()\n",
        "    G_loss.backward()\n",
        "    G_opt.step()\n",
        "\n",
        "  with torch.no_grad():\n",
        "        samples = G(fixed_noise).view(-1, 1, 28, 28)\n",
        "        grid = utils.make_grid(samples, nrow=4, normalize=True)\n",
        "        plt.imshow(grid.permute(1, 2, 0).cpu())\n",
        "        plt.axis('off')\n",
        "        plt.title(f\"Epoch {epoch+1}\")\n",
        "        plt.savefig(f\"gan_outputs/epoch_{epoch+1}.png\")\n",
        "        plt.close()\n",
        "\n"
      ],
      "metadata": {
        "id": "LlLRFmJOj2FC"
      },
      "execution_count": 35,
      "outputs": []
    }
  ]
}